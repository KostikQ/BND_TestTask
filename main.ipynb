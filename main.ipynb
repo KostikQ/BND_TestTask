{
 "cells": [
  {
   "cell_type": "code",
   "execution_count": 8,
   "metadata": {},
   "outputs": [],
   "source": [
    "import cv2\n",
    "import numpy as np\n",
    "from yolo import YOLOv8\n",
    "from tqdm import tqdm"
   ]
  },
  {
   "cell_type": "code",
   "execution_count": 9,
   "metadata": {},
   "outputs": [],
   "source": [
    "inputPath = r'video/crowd.mp4'\n",
    "outputPath = r'video/output.mp4'\n",
    "modelPath = r'models/people.onnx'"
   ]
  },
  {
   "cell_type": "code",
   "execution_count": 10,
   "metadata": {},
   "outputs": [],
   "source": [
    "yolo = YOLOv8(modelPath, conf_thres=0.6, iou_thres=0.5)\n",
    "input = cv2.VideoCapture(inputPath)\n",
    "\n",
    "width = int(input.get(cv2.CAP_PROP_FRAME_WIDTH))\n",
    "height = int(input.get(cv2.CAP_PROP_FRAME_HEIGHT))\n",
    "fps = input.get(cv2.CAP_PROP_FPS)\n",
    "fourcc = cv2.VideoWriter_fourcc(* 'mp4v')\n",
    "\n",
    "output = cv2.VideoWriter(outputPath, fourcc, fps, (width, height))"
   ]
  },
  {
   "cell_type": "code",
   "execution_count": 11,
   "metadata": {},
   "outputs": [],
   "source": [
    "length = int(input.get(cv2.CAP_PROP_FRAME_COUNT))\n"
   ]
  },
  {
   "cell_type": "code",
   "execution_count": 12,
   "metadata": {},
   "outputs": [
    {
     "name": "stderr",
     "output_type": "stream",
     "text": [
      "  0%|          | 0/705 [00:00<?, ?it/s]"
     ]
    },
    {
     "name": "stderr",
     "output_type": "stream",
     "text": [
      "100%|██████████| 705/705 [1:01:42<00:00,  5.25s/it] \n"
     ]
    }
   ],
   "source": [
    "for fnum in tqdm(range(length)):\n",
    "    ret, frame = input.read()\n",
    "    if not ret:\n",
    "        break\n",
    "    boxes, scores, class_ids = yolo(frame)\n",
    "    detected = np.copy(frame)\n",
    "    for box in boxes:\n",
    "        x1, y1, x2, y2 = list(map(int, box))\n",
    "        detected = cv2.rectangle(detected, (x1, y1), (x2, y2), (255, 0, 255), 5)\n",
    "    output.write(detected)\n",
    "output.release()\n",
    "    "
   ]
  }
 ],
 "metadata": {
  "kernelspec": {
   "display_name": ".BND_Test",
   "language": "python",
   "name": "python3"
  },
  "language_info": {
   "codemirror_mode": {
    "name": "ipython",
    "version": 3
   },
   "file_extension": ".py",
   "mimetype": "text/x-python",
   "name": "python",
   "nbconvert_exporter": "python",
   "pygments_lexer": "ipython3",
   "version": "3.11.4"
  }
 },
 "nbformat": 4,
 "nbformat_minor": 2
}
